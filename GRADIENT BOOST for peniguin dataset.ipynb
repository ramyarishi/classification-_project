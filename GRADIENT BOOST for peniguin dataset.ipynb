{
 "cells": [
  {
   "cell_type": "code",
   "execution_count": 1,
   "id": "5abb9dbe-0f37-4926-bdac-33cbf9420199",
   "metadata": {},
   "outputs": [],
   "source": [
    "import numpy as np\n",
    "import pandas as pd\n",
    "import warnings\n",
    "warnings.simplefilter('ignore')\n",
    "import seaborn as sns\n",
    "import matplotlib.pyplot as plt\n",
    "pd.set_option('display.max_columns',None)"
   ]
  },
  {
   "cell_type": "code",
   "execution_count": 2,
   "id": "8994da21-6e31-42e0-9f3f-ce6837e16c7c",
   "metadata": {},
   "outputs": [
    {
     "data": {
      "text/html": [
       "<div>\n",
       "<style scoped>\n",
       "    .dataframe tbody tr th:only-of-type {\n",
       "        vertical-align: middle;\n",
       "    }\n",
       "\n",
       "    .dataframe tbody tr th {\n",
       "        vertical-align: top;\n",
       "    }\n",
       "\n",
       "    .dataframe thead th {\n",
       "        text-align: right;\n",
       "    }\n",
       "</style>\n",
       "<table border=\"1\" class=\"dataframe\">\n",
       "  <thead>\n",
       "    <tr style=\"text-align: right;\">\n",
       "      <th></th>\n",
       "      <th>species</th>\n",
       "      <th>culmen_length_mm</th>\n",
       "      <th>culmen_depth_mm</th>\n",
       "      <th>flipper_length_mm</th>\n",
       "      <th>body_mass_g</th>\n",
       "      <th>island_Dream</th>\n",
       "      <th>island_Torgersen</th>\n",
       "      <th>sex_MALE</th>\n",
       "    </tr>\n",
       "  </thead>\n",
       "  <tbody>\n",
       "    <tr>\n",
       "      <th>0</th>\n",
       "      <td>0</td>\n",
       "      <td>39.10000</td>\n",
       "      <td>18.70000</td>\n",
       "      <td>181.000000</td>\n",
       "      <td>3750.000000</td>\n",
       "      <td>0</td>\n",
       "      <td>1</td>\n",
       "      <td>1</td>\n",
       "    </tr>\n",
       "    <tr>\n",
       "      <th>1</th>\n",
       "      <td>0</td>\n",
       "      <td>39.50000</td>\n",
       "      <td>17.40000</td>\n",
       "      <td>186.000000</td>\n",
       "      <td>3800.000000</td>\n",
       "      <td>0</td>\n",
       "      <td>1</td>\n",
       "      <td>0</td>\n",
       "    </tr>\n",
       "    <tr>\n",
       "      <th>2</th>\n",
       "      <td>0</td>\n",
       "      <td>40.30000</td>\n",
       "      <td>18.00000</td>\n",
       "      <td>195.000000</td>\n",
       "      <td>3250.000000</td>\n",
       "      <td>0</td>\n",
       "      <td>1</td>\n",
       "      <td>0</td>\n",
       "    </tr>\n",
       "    <tr>\n",
       "      <th>3</th>\n",
       "      <td>0</td>\n",
       "      <td>43.92193</td>\n",
       "      <td>17.15117</td>\n",
       "      <td>200.915205</td>\n",
       "      <td>4201.754386</td>\n",
       "      <td>0</td>\n",
       "      <td>1</td>\n",
       "      <td>1</td>\n",
       "    </tr>\n",
       "    <tr>\n",
       "      <th>4</th>\n",
       "      <td>0</td>\n",
       "      <td>36.70000</td>\n",
       "      <td>19.30000</td>\n",
       "      <td>193.000000</td>\n",
       "      <td>3450.000000</td>\n",
       "      <td>0</td>\n",
       "      <td>1</td>\n",
       "      <td>0</td>\n",
       "    </tr>\n",
       "  </tbody>\n",
       "</table>\n",
       "</div>"
      ],
      "text/plain": [
       "   species  culmen_length_mm  culmen_depth_mm  flipper_length_mm  body_mass_g  \\\n",
       "0        0          39.10000         18.70000         181.000000  3750.000000   \n",
       "1        0          39.50000         17.40000         186.000000  3800.000000   \n",
       "2        0          40.30000         18.00000         195.000000  3250.000000   \n",
       "3        0          43.92193         17.15117         200.915205  4201.754386   \n",
       "4        0          36.70000         19.30000         193.000000  3450.000000   \n",
       "\n",
       "   island_Dream  island_Torgersen  sex_MALE  \n",
       "0             0                 1         1  \n",
       "1             0                 1         0  \n",
       "2             0                 1         0  \n",
       "3             0                 1         1  \n",
       "4             0                 1         0  "
      ]
     },
     "execution_count": 2,
     "metadata": {},
     "output_type": "execute_result"
    }
   ],
   "source": [
    "df = pd.read_excel(r\"D:\\Jupyter\\Data Science\\ML\\SUPERVISIED LEARNING\\CLASSIFICATION\\PENGUIN DATASET\\peniguncleandata.xlsx\")\n",
    "df.head()"
   ]
  },
  {
   "cell_type": "code",
   "execution_count": 3,
   "id": "e1776b1b-f801-451d-9b30-f1af7838b594",
   "metadata": {},
   "outputs": [],
   "source": [
    "X = df.drop(['species'], axis=1)\n",
    "y = df['species']\n"
   ]
  },
  {
   "cell_type": "code",
   "execution_count": 4,
   "id": "3709f116-0410-49d2-bbdf-46eaef91f20c",
   "metadata": {},
   "outputs": [],
   "source": [
    "from sklearn.model_selection import train_test_split\n",
    "X_train,X_test,y_train,y_test = train_test_split(X,y,test_size=0.2,random_state=True)"
   ]
  },
  {
   "cell_type": "markdown",
   "id": "7d50a954-76f3-4a37-909b-d92283e8c7be",
   "metadata": {},
   "source": [
    "# gradient boost\n",
    "- applying hyperparameter tuning for identifying best parameters for gradient boost"
   ]
  },
  {
   "cell_type": "code",
   "execution_count": 9,
   "id": "3bdc37cd-917f-4610-98fd-9f09dc7cf06f",
   "metadata": {},
   "outputs": [
    {
     "data": {
      "text/plain": [
       "{'learning_rate': 0.5, 'n_estimators': 30}"
      ]
     },
     "execution_count": 9,
     "metadata": {},
     "output_type": "execute_result"
    }
   ],
   "source": [
    "from sklearn.model_selection import GridSearchCV\n",
    "\n",
    "#model\n",
    "from sklearn.ensemble import GradientBoostingClassifier\n",
    "estimator_gb = GradientBoostingClassifier(random_state= True)\n",
    "\n",
    "#parameters(which you want to tune and identify the best)\n",
    "param_grid ={'n_estimators':[1,5,10,20,30,40],\n",
    "            'learning_rate':[0.1,0.2,0.3,0.5,0.8,1]}\n",
    "\n",
    "#grid search\n",
    "grid_gb = GridSearchCV(estimator_gb,param_grid,scoring ='accuracy',cv= 5)\n",
    "grid_gb.fit(X_train,y_train)\n",
    "\n",
    "# best parameters for adaboost model\n",
    "grid_gb.best_params_"
   ]
  },
  {
   "cell_type": "code",
   "execution_count": 6,
   "id": "ad7b0db9-b6ab-4dad-a6e4-80a59150388a",
   "metadata": {},
   "outputs": [
    {
     "data": {
      "text/plain": [
       "array([4.67932226e-01, 3.84394961e-02, 3.58247691e-01, 1.90192066e-03,\n",
       "       1.12834676e-01, 2.06438137e-02, 1.77096599e-07])"
      ]
     },
     "execution_count": 6,
     "metadata": {},
     "output_type": "execute_result"
    }
   ],
   "source": [
    "grid_gb.best_estimator_.feature_importances_"
   ]
  },
  {
   "cell_type": "code",
   "execution_count": 7,
   "id": "10e0367f-1554-418f-8b6e-77bd10b2f09d",
   "metadata": {},
   "outputs": [
    {
     "data": {
      "text/plain": [
       "['culmen_length_mm',\n",
       " 'culmen_depth_mm',\n",
       " 'flipper_length_mm',\n",
       " 'body_mass_g',\n",
       " 'island_Dream',\n",
       " 'island_Torgersen',\n",
       " 'sex_MALE']"
      ]
     },
     "execution_count": 7,
     "metadata": {},
     "output_type": "execute_result"
    }
   ],
   "source": [
    "s1 = pd.DataFrame(grid_gb.best_estimator_.feature_importances_,\n",
    "                  columns=['featureimportance'],\n",
    "                  index = X.columns)\n",
    "imp_features_list_gb = s1[s1['featureimportance']>0].index.to_list()\n",
    "imp_features_list_gb\n",
    "                "
   ]
  },
  {
   "cell_type": "code",
   "execution_count": 8,
   "id": "aef534e2-615c-4b07-b548-64176478b89f",
   "metadata": {},
   "outputs": [
    {
     "name": "stdout",
     "output_type": "stream",
     "text": [
      "trainaccuracy: 0.9890909090909091\n",
      "crossvalidationscore: 0.9745454545454546\n",
      "testaccuracy: 1.0\n"
     ]
    }
   ],
   "source": [
    "from sklearn.model_selection import train_test_split\n",
    "from sklearn.ensemble import GradientBoostingClassifier\n",
    "from sklearn.metrics import accuracy_score\n",
    "from sklearn.model_selection import cross_val_score\n",
    "\n",
    "\n",
    "\n",
    "\n",
    "# Ensure `X_imp` and `y` have the same number of rows\n",
    "X_imp = X[imp_features_list_gb]\n",
    "\n",
    "# Correct order of train_test_split\n",
    "X_train_gb, X_test_gb, y_train_gb, y_test_gb = train_test_split(X_imp, y, test_size=0.2, random_state=42)\n",
    "\n",
    "# Initialize and train AdaBoostClassifier\n",
    "ada =GradientBoostingClassifier(n_estimators=9, random_state=42)\n",
    "ada.fit(X_train_gb, y_train_gb)\n",
    "\n",
    "# Predictions\n",
    "ypred_train_gb = ada.predict(X_train_gb)\n",
    "ypred_test_gb = ada.predict(X_test_gb)\n",
    "\n",
    "# Train accuracy\n",
    "print('trainaccuracy:', accuracy_score(y_train_gb, ypred_train_gb))\n",
    "\n",
    "# Cross-validation score\n",
    "print('crossvalidationscore:', cross_val_score(ada, X_train_gb, y_train_gb, cv=5).mean())\n",
    "\n",
    "# Test accuracy\n",
    "print('testaccuracy:', accuracy_score(y_test_gb, ypred_test_gb))\n"
   ]
  },
  {
   "cell_type": "code",
   "execution_count": null,
   "id": "8d523fe7-3b12-4e43-867b-4c3fa3c9552f",
   "metadata": {},
   "outputs": [],
   "source": []
  }
 ],
 "metadata": {
  "kernelspec": {
   "display_name": "Python 3 (ipykernel)",
   "language": "python",
   "name": "python3"
  },
  "language_info": {
   "codemirror_mode": {
    "name": "ipython",
    "version": 3
   },
   "file_extension": ".py",
   "mimetype": "text/x-python",
   "name": "python",
   "nbconvert_exporter": "python",
   "pygments_lexer": "ipython3",
   "version": "3.12.4"
  }
 },
 "nbformat": 4,
 "nbformat_minor": 5
}
