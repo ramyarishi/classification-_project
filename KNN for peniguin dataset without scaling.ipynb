{
 "cells": [
  {
   "cell_type": "code",
   "execution_count": 1,
   "id": "cc7d7aef-2041-44e6-88a8-285814d3da65",
   "metadata": {},
   "outputs": [],
   "source": [
    "import numpy as np\n",
    "import pandas as pd\n",
    "import warnings\n",
    "warnings.simplefilter('ignore')\n",
    "import seaborn as sns\n",
    "import matplotlib.pyplot as plt\n",
    "\n"
   ]
  },
  {
   "cell_type": "code",
   "execution_count": 2,
   "id": "fa8f7cbe-26eb-4173-b182-85eab5565984",
   "metadata": {},
   "outputs": [
    {
     "data": {
      "text/html": [
       "<div>\n",
       "<style scoped>\n",
       "    .dataframe tbody tr th:only-of-type {\n",
       "        vertical-align: middle;\n",
       "    }\n",
       "\n",
       "    .dataframe tbody tr th {\n",
       "        vertical-align: top;\n",
       "    }\n",
       "\n",
       "    .dataframe thead th {\n",
       "        text-align: right;\n",
       "    }\n",
       "</style>\n",
       "<table border=\"1\" class=\"dataframe\">\n",
       "  <thead>\n",
       "    <tr style=\"text-align: right;\">\n",
       "      <th></th>\n",
       "      <th>species</th>\n",
       "      <th>culmen_length_mm</th>\n",
       "      <th>culmen_depth_mm</th>\n",
       "      <th>flipper_length_mm</th>\n",
       "      <th>body_mass_g</th>\n",
       "      <th>island_Dream</th>\n",
       "      <th>island_Torgersen</th>\n",
       "      <th>sex_MALE</th>\n",
       "    </tr>\n",
       "  </thead>\n",
       "  <tbody>\n",
       "    <tr>\n",
       "      <th>0</th>\n",
       "      <td>0</td>\n",
       "      <td>39.10000</td>\n",
       "      <td>18.70000</td>\n",
       "      <td>181.000000</td>\n",
       "      <td>3750.000000</td>\n",
       "      <td>0</td>\n",
       "      <td>1</td>\n",
       "      <td>1</td>\n",
       "    </tr>\n",
       "    <tr>\n",
       "      <th>1</th>\n",
       "      <td>0</td>\n",
       "      <td>39.50000</td>\n",
       "      <td>17.40000</td>\n",
       "      <td>186.000000</td>\n",
       "      <td>3800.000000</td>\n",
       "      <td>0</td>\n",
       "      <td>1</td>\n",
       "      <td>0</td>\n",
       "    </tr>\n",
       "    <tr>\n",
       "      <th>2</th>\n",
       "      <td>0</td>\n",
       "      <td>40.30000</td>\n",
       "      <td>18.00000</td>\n",
       "      <td>195.000000</td>\n",
       "      <td>3250.000000</td>\n",
       "      <td>0</td>\n",
       "      <td>1</td>\n",
       "      <td>0</td>\n",
       "    </tr>\n",
       "    <tr>\n",
       "      <th>3</th>\n",
       "      <td>0</td>\n",
       "      <td>43.92193</td>\n",
       "      <td>17.15117</td>\n",
       "      <td>200.915205</td>\n",
       "      <td>4201.754386</td>\n",
       "      <td>0</td>\n",
       "      <td>1</td>\n",
       "      <td>1</td>\n",
       "    </tr>\n",
       "    <tr>\n",
       "      <th>4</th>\n",
       "      <td>0</td>\n",
       "      <td>36.70000</td>\n",
       "      <td>19.30000</td>\n",
       "      <td>193.000000</td>\n",
       "      <td>3450.000000</td>\n",
       "      <td>0</td>\n",
       "      <td>1</td>\n",
       "      <td>0</td>\n",
       "    </tr>\n",
       "  </tbody>\n",
       "</table>\n",
       "</div>"
      ],
      "text/plain": [
       "   species  culmen_length_mm  culmen_depth_mm  flipper_length_mm  body_mass_g  \\\n",
       "0        0          39.10000         18.70000         181.000000  3750.000000   \n",
       "1        0          39.50000         17.40000         186.000000  3800.000000   \n",
       "2        0          40.30000         18.00000         195.000000  3250.000000   \n",
       "3        0          43.92193         17.15117         200.915205  4201.754386   \n",
       "4        0          36.70000         19.30000         193.000000  3450.000000   \n",
       "\n",
       "   island_Dream  island_Torgersen  sex_MALE  \n",
       "0             0                 1         1  \n",
       "1             0                 1         0  \n",
       "2             0                 1         0  \n",
       "3             0                 1         1  \n",
       "4             0                 1         0  "
      ]
     },
     "execution_count": 2,
     "metadata": {},
     "output_type": "execute_result"
    }
   ],
   "source": [
    "df = pd.read_excel(r\"D:\\Jupyter\\Data Science\\ML\\SUPERVISIED LEARNING\\CLASSIFICATION\\PENGUIN DATASET\\peniguncleandata.xlsx\")\n",
    "df.head()"
   ]
  },
  {
   "cell_type": "code",
   "execution_count": 3,
   "id": "b6ca2182-99ed-4dff-a7d7-fb071568cccb",
   "metadata": {},
   "outputs": [],
   "source": [
    "X = df.drop(['species'], axis=1)\n",
    "y = df['species']\n"
   ]
  },
  {
   "cell_type": "code",
   "execution_count": 4,
   "id": "a6b72d46-b7d2-46bc-81f5-f13aca76cec9",
   "metadata": {},
   "outputs": [],
   "source": [
    "from sklearn.model_selection import train_test_split\n",
    "X_train,X_test,y_train,y_test = train_test_split(X,y,test_size=0.2,random_state=True)"
   ]
  },
  {
   "cell_type": "code",
   "execution_count": 5,
   "id": "f3395438-a7cf-4223-a765-7f9f75ccfda1",
   "metadata": {},
   "outputs": [
    {
     "data": {
      "text/plain": [
       "{'n_neighbors': 1}"
      ]
     },
     "execution_count": 5,
     "metadata": {},
     "output_type": "execute_result"
    }
   ],
   "source": [
    "from sklearn.neighbors import KNeighborsClassifier\n",
    "estimator = KNeighborsClassifier()\n",
    "param_grid = {'n_neighbors':list(range(1,20))}\n",
    "\n",
    "from sklearn.model_selection import GridSearchCV\n",
    "cv_classifier = GridSearchCV(estimator,param_grid,cv=5,scoring = 'accuracy')\n",
    "\n",
    "cv_classifier.fit(X_train,y_train)\n",
    "\n",
    "cv_classifier.best_params_"
   ]
  },
  {
   "cell_type": "code",
   "execution_count": 6,
   "id": "5264e1ff-55a8-408f-8b60-a9d8049afd11",
   "metadata": {},
   "outputs": [
    {
     "name": "stdout",
     "output_type": "stream",
     "text": [
      "train accuracy 0.7527272727272727\n",
      "test accuracy 0.8405797101449275\n",
      "cross validation score 0.7443307757885762\n"
     ]
    }
   ],
   "source": [
    "#modelling\n",
    "from sklearn.neighbors import KNeighborsClassifier\n",
    "knn = KNeighborsClassifier(n_neighbors=18)\n",
    "knn.fit(X_train,y_train)\n",
    "\n",
    "#prediction \n",
    "y_pred_test = knn.predict(X_test)\n",
    "y_pred_train = knn.predict(X_train)\n",
    "\n",
    "#Evalution \n",
    "from sklearn.metrics import accuracy_score\n",
    "print('train accuracy',accuracy_score(y_train,y_pred_train))\n",
    "print('test accuracy',accuracy_score(y_test,y_pred_test))\n",
    "\n",
    "from sklearn.model_selection import cross_val_score\n",
    "print('cross validation score',cross_val_score(knn,X,y,cv=5).mean())\n"
   ]
  },
  {
   "cell_type": "code",
   "execution_count": 7,
   "id": "ccff8eed-f46e-4406-80f0-8bd692afeaf2",
   "metadata": {},
   "outputs": [
    {
     "data": {
      "text/plain": [
       "array([[32,  0,  2],\n",
       "       [ 6,  3,  2],\n",
       "       [ 1,  0, 23]], dtype=int64)"
      ]
     },
     "execution_count": 7,
     "metadata": {},
     "output_type": "execute_result"
    }
   ],
   "source": [
    "from sklearn.metrics import confusion_matrix\n",
    "confusion_matrix(y_test,y_pred_test)"
   ]
  },
  {
   "cell_type": "code",
   "execution_count": 8,
   "id": "deed95b4-3e7f-40d6-9878-e24166d85cf7",
   "metadata": {},
   "outputs": [
    {
     "name": "stdout",
     "output_type": "stream",
     "text": [
      "              precision    recall  f1-score   support\n",
      "\n",
      "           0       0.82      0.94      0.88        34\n",
      "           1       1.00      0.27      0.43        11\n",
      "           2       0.85      0.96      0.90        24\n",
      "\n",
      "    accuracy                           0.84        69\n",
      "   macro avg       0.89      0.72      0.74        69\n",
      "weighted avg       0.86      0.84      0.81        69\n",
      "\n"
     ]
    }
   ],
   "source": [
    "from sklearn.metrics import classification_report\n",
    "print(classification_report(y_test,y_pred_test))"
   ]
  },
  {
   "cell_type": "code",
   "execution_count": null,
   "id": "990e2dfd-c4f2-4247-9707-68b58f0ae693",
   "metadata": {},
   "outputs": [],
   "source": []
  }
 ],
 "metadata": {
  "kernelspec": {
   "display_name": "Python 3 (ipykernel)",
   "language": "python",
   "name": "python3"
  },
  "language_info": {
   "codemirror_mode": {
    "name": "ipython",
    "version": 3
   },
   "file_extension": ".py",
   "mimetype": "text/x-python",
   "name": "python",
   "nbconvert_exporter": "python",
   "pygments_lexer": "ipython3",
   "version": "3.12.4"
  }
 },
 "nbformat": 4,
 "nbformat_minor": 5
}
